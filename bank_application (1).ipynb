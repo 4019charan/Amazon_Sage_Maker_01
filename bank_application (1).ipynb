{
 "cells": [
  {
   "cell_type": "markdown",
   "id": "3d64e3eb",
   "metadata": {},
   "source": [
    "### Importing Important Libraries"
   ]
  },
  {
   "cell_type": "markdown",
   "id": "48f548ae",
   "metadata": {},
   "source": [
    "#### Steps To Be Followed\n",
    "1. Importing necessary Libraries\n",
    "2. Creating S3 bucket \n",
    "3. Mapping train And Test Data in S3\n",
    "4. Mapping The path of the models in S3"
   ]
  },
  {
   "cell_type": "code",
   "execution_count": 1,
   "id": "4ba59126",
   "metadata": {},
   "outputs": [],
   "source": [
    "import sagemaker\n",
    "import boto3\n",
    "from sagemaker.amazon.amazon_estimator import get_image_uri \n",
    "from sagemaker.session import s3_input, Session"
   ]
  },
  {
   "cell_type": "code",
   "execution_count": 2,
   "id": "44d115aa",
   "metadata": {},
   "outputs": [
    {
     "name": "stdout",
     "output_type": "stream",
     "text": [
      "us-east-1\n"
     ]
    }
   ],
   "source": [
    "bucket_name = 'bankapplication890' # <--- CHANGE THIS VARIABLE TO A UNIQUE NAME FOR YOUR BUCKET\n",
    "my_region = boto3.session.Session().region_name # set the region of the instance\n",
    "print(my_region)"
   ]
  },
  {
   "cell_type": "code",
   "execution_count": 3,
   "id": "f13de84f",
   "metadata": {},
   "outputs": [
    {
     "name": "stdout",
     "output_type": "stream",
     "text": [
      "S3 bucket created successfully\n"
     ]
    }
   ],
   "source": [
    "s3 = boto3.resource('s3')\n",
    "try:\n",
    "    if  my_region == 'us-east-1':\n",
    "        s3.create_bucket(Bucket=bucket_name)\n",
    "    print('S3 bucket created successfully')\n",
    "except Exception as e:\n",
    "    print('S3 error: ',e)"
   ]
  },
  {
   "cell_type": "code",
   "execution_count": 4,
   "id": "0b79856a",
   "metadata": {},
   "outputs": [
    {
     "name": "stdout",
     "output_type": "stream",
     "text": [
      "s3://bankapplication890/built-in-xgboost/output\n"
     ]
    }
   ],
   "source": [
    "# set an output path where the trained model will be saved\n",
    "prefix = 'built-in-xgboost'\n",
    "output_path ='s3://{}/{}/output'.format(bucket_name, prefix)\n",
    "print(output_path)"
   ]
  },
  {
   "cell_type": "code",
   "execution_count": 5,
   "id": "e1a3fe16",
   "metadata": {},
   "outputs": [
    {
     "data": {
      "text/plain": [
       "'s3://bankapplication890/built-in-xgboost/output'"
      ]
     },
     "execution_count": 5,
     "metadata": {},
     "output_type": "execute_result"
    }
   ],
   "source": [
    "output_path"
   ]
  },
  {
   "cell_type": "markdown",
   "id": "2a1c2a03",
   "metadata": {},
   "source": [
    "#### Downloading The Dataset And Storing in S3"
   ]
  },
  {
   "cell_type": "code",
   "execution_count": 6,
   "id": "2d1935f1",
   "metadata": {},
   "outputs": [
    {
     "name": "stdout",
     "output_type": "stream",
     "text": [
      "Success: downloaded bank_clean.csv.\n",
      "Success: Data loaded into dataframe.\n"
     ]
    }
   ],
   "source": [
    "import pandas as pd\n",
    "import urllib\n",
    "try:\n",
    "    urllib.request.urlretrieve (\"https://d1.awsstatic.com/tmt/build-train-deploy-machine-learning-model-sagemaker/bank_clean.27f01fbbdf43271788427f3682996ae29ceca05d.csv\", \"bank_clean.csv\")\n",
    "    print('Success: downloaded bank_clean.csv.')\n",
    "except Exception as e:\n",
    "    print('Data load error: ',e)\n",
    "\n",
    "try:\n",
    "    model_data = pd.read_csv('./bank_clean.csv',index_col=0)\n",
    "    print('Success: Data loaded into dataframe.')\n",
    "except Exception as e:\n",
    "    print('Data load error: ',e)"
   ]
  },
  {
   "cell_type": "code",
   "execution_count": 7,
   "id": "ba3213a4",
   "metadata": {},
   "outputs": [
    {
     "data": {
      "text/html": [
       "<div>\n",
       "<style scoped>\n",
       "    .dataframe tbody tr th:only-of-type {\n",
       "        vertical-align: middle;\n",
       "    }\n",
       "\n",
       "    .dataframe tbody tr th {\n",
       "        vertical-align: top;\n",
       "    }\n",
       "\n",
       "    .dataframe thead th {\n",
       "        text-align: right;\n",
       "    }\n",
       "</style>\n",
       "<table border=\"1\" class=\"dataframe\">\n",
       "  <thead>\n",
       "    <tr style=\"text-align: right;\">\n",
       "      <th></th>\n",
       "      <th>age</th>\n",
       "      <th>campaign</th>\n",
       "      <th>pdays</th>\n",
       "      <th>previous</th>\n",
       "      <th>no_previous_contact</th>\n",
       "      <th>not_working</th>\n",
       "      <th>job_admin.</th>\n",
       "      <th>job_blue-collar</th>\n",
       "      <th>job_entrepreneur</th>\n",
       "      <th>job_housemaid</th>\n",
       "      <th>...</th>\n",
       "      <th>day_of_week_fri</th>\n",
       "      <th>day_of_week_mon</th>\n",
       "      <th>day_of_week_thu</th>\n",
       "      <th>day_of_week_tue</th>\n",
       "      <th>day_of_week_wed</th>\n",
       "      <th>poutcome_failure</th>\n",
       "      <th>poutcome_nonexistent</th>\n",
       "      <th>poutcome_success</th>\n",
       "      <th>y_no</th>\n",
       "      <th>y_yes</th>\n",
       "    </tr>\n",
       "  </thead>\n",
       "  <tbody>\n",
       "    <tr>\n",
       "      <th>0</th>\n",
       "      <td>56</td>\n",
       "      <td>1</td>\n",
       "      <td>999</td>\n",
       "      <td>0</td>\n",
       "      <td>1</td>\n",
       "      <td>0</td>\n",
       "      <td>0</td>\n",
       "      <td>0</td>\n",
       "      <td>0</td>\n",
       "      <td>1</td>\n",
       "      <td>...</td>\n",
       "      <td>0</td>\n",
       "      <td>1</td>\n",
       "      <td>0</td>\n",
       "      <td>0</td>\n",
       "      <td>0</td>\n",
       "      <td>0</td>\n",
       "      <td>1</td>\n",
       "      <td>0</td>\n",
       "      <td>1</td>\n",
       "      <td>0</td>\n",
       "    </tr>\n",
       "    <tr>\n",
       "      <th>1</th>\n",
       "      <td>57</td>\n",
       "      <td>1</td>\n",
       "      <td>999</td>\n",
       "      <td>0</td>\n",
       "      <td>1</td>\n",
       "      <td>0</td>\n",
       "      <td>0</td>\n",
       "      <td>0</td>\n",
       "      <td>0</td>\n",
       "      <td>0</td>\n",
       "      <td>...</td>\n",
       "      <td>0</td>\n",
       "      <td>1</td>\n",
       "      <td>0</td>\n",
       "      <td>0</td>\n",
       "      <td>0</td>\n",
       "      <td>0</td>\n",
       "      <td>1</td>\n",
       "      <td>0</td>\n",
       "      <td>1</td>\n",
       "      <td>0</td>\n",
       "    </tr>\n",
       "    <tr>\n",
       "      <th>2</th>\n",
       "      <td>37</td>\n",
       "      <td>1</td>\n",
       "      <td>999</td>\n",
       "      <td>0</td>\n",
       "      <td>1</td>\n",
       "      <td>0</td>\n",
       "      <td>0</td>\n",
       "      <td>0</td>\n",
       "      <td>0</td>\n",
       "      <td>0</td>\n",
       "      <td>...</td>\n",
       "      <td>0</td>\n",
       "      <td>1</td>\n",
       "      <td>0</td>\n",
       "      <td>0</td>\n",
       "      <td>0</td>\n",
       "      <td>0</td>\n",
       "      <td>1</td>\n",
       "      <td>0</td>\n",
       "      <td>1</td>\n",
       "      <td>0</td>\n",
       "    </tr>\n",
       "    <tr>\n",
       "      <th>3</th>\n",
       "      <td>40</td>\n",
       "      <td>1</td>\n",
       "      <td>999</td>\n",
       "      <td>0</td>\n",
       "      <td>1</td>\n",
       "      <td>0</td>\n",
       "      <td>1</td>\n",
       "      <td>0</td>\n",
       "      <td>0</td>\n",
       "      <td>0</td>\n",
       "      <td>...</td>\n",
       "      <td>0</td>\n",
       "      <td>1</td>\n",
       "      <td>0</td>\n",
       "      <td>0</td>\n",
       "      <td>0</td>\n",
       "      <td>0</td>\n",
       "      <td>1</td>\n",
       "      <td>0</td>\n",
       "      <td>1</td>\n",
       "      <td>0</td>\n",
       "    </tr>\n",
       "    <tr>\n",
       "      <th>4</th>\n",
       "      <td>56</td>\n",
       "      <td>1</td>\n",
       "      <td>999</td>\n",
       "      <td>0</td>\n",
       "      <td>1</td>\n",
       "      <td>0</td>\n",
       "      <td>0</td>\n",
       "      <td>0</td>\n",
       "      <td>0</td>\n",
       "      <td>0</td>\n",
       "      <td>...</td>\n",
       "      <td>0</td>\n",
       "      <td>1</td>\n",
       "      <td>0</td>\n",
       "      <td>0</td>\n",
       "      <td>0</td>\n",
       "      <td>0</td>\n",
       "      <td>1</td>\n",
       "      <td>0</td>\n",
       "      <td>1</td>\n",
       "      <td>0</td>\n",
       "    </tr>\n",
       "  </tbody>\n",
       "</table>\n",
       "<p>5 rows × 61 columns</p>\n",
       "</div>"
      ],
      "text/plain": [
       "   age  campaign  pdays  previous  no_previous_contact  not_working   \n",
       "0   56         1    999         0                    1            0  \\\n",
       "1   57         1    999         0                    1            0   \n",
       "2   37         1    999         0                    1            0   \n",
       "3   40         1    999         0                    1            0   \n",
       "4   56         1    999         0                    1            0   \n",
       "\n",
       "   job_admin.  job_blue-collar  job_entrepreneur  job_housemaid  ...   \n",
       "0           0                0                 0              1  ...  \\\n",
       "1           0                0                 0              0  ...   \n",
       "2           0                0                 0              0  ...   \n",
       "3           1                0                 0              0  ...   \n",
       "4           0                0                 0              0  ...   \n",
       "\n",
       "   day_of_week_fri  day_of_week_mon  day_of_week_thu  day_of_week_tue   \n",
       "0                0                1                0                0  \\\n",
       "1                0                1                0                0   \n",
       "2                0                1                0                0   \n",
       "3                0                1                0                0   \n",
       "4                0                1                0                0   \n",
       "\n",
       "   day_of_week_wed  poutcome_failure  poutcome_nonexistent  poutcome_success   \n",
       "0                0                 0                     1                 0  \\\n",
       "1                0                 0                     1                 0   \n",
       "2                0                 0                     1                 0   \n",
       "3                0                 0                     1                 0   \n",
       "4                0                 0                     1                 0   \n",
       "\n",
       "   y_no  y_yes  \n",
       "0     1      0  \n",
       "1     1      0  \n",
       "2     1      0  \n",
       "3     1      0  \n",
       "4     1      0  \n",
       "\n",
       "[5 rows x 61 columns]"
      ]
     },
     "execution_count": 7,
     "metadata": {},
     "output_type": "execute_result"
    }
   ],
   "source": [
    "model_data.head()"
   ]
  },
  {
   "cell_type": "code",
   "execution_count": 8,
   "id": "2bc4ae96",
   "metadata": {},
   "outputs": [
    {
     "name": "stdout",
     "output_type": "stream",
     "text": [
      "(28831, 61) (12357, 61)\n"
     ]
    }
   ],
   "source": [
    "from sklearn.model_selection import train_test_split\n",
    "train_data,test_data = train_test_split(model_data,shuffle = True,random_state = 1729, train_size = 0.7)\n",
    "print(train_data.shape,test_data.shape)"
   ]
  },
  {
   "cell_type": "code",
   "execution_count": 9,
   "id": "2c83d336",
   "metadata": {},
   "outputs": [],
   "source": [
    "### Saving Train And Test Into Buckets\n",
    "## We start with Train Data\n",
    "import os\n",
    "pd.concat([train_data['y_yes'], train_data.drop(['y_no', 'y_yes'], \n",
    "                                                axis=1)], \n",
    "                                                axis=1).to_csv('train.csv', index=False, header=False)\n",
    "boto3.Session().resource('s3').Bucket(bucket_name).Object(os.path.join(prefix, 'train/train.csv')).upload_file('train.csv')\n",
    "s3_input_train = sagemaker.TrainingInput(s3_data='s3://{}/{}/train'.format(bucket_name, prefix), content_type='csv')"
   ]
  },
  {
   "cell_type": "code",
   "execution_count": 10,
   "id": "c621ec29",
   "metadata": {},
   "outputs": [
    {
     "data": {
      "text/html": [
       "<div>\n",
       "<style scoped>\n",
       "    .dataframe tbody tr th:only-of-type {\n",
       "        vertical-align: middle;\n",
       "    }\n",
       "\n",
       "    .dataframe tbody tr th {\n",
       "        vertical-align: top;\n",
       "    }\n",
       "\n",
       "    .dataframe thead th {\n",
       "        text-align: right;\n",
       "    }\n",
       "</style>\n",
       "<table border=\"1\" class=\"dataframe\">\n",
       "  <thead>\n",
       "    <tr style=\"text-align: right;\">\n",
       "      <th></th>\n",
       "      <th>0</th>\n",
       "      <th>31</th>\n",
       "      <th>1</th>\n",
       "      <th>999</th>\n",
       "      <th>1.1</th>\n",
       "      <th>1.2</th>\n",
       "      <th>1.3</th>\n",
       "      <th>0.1</th>\n",
       "      <th>0.2</th>\n",
       "      <th>0.3</th>\n",
       "      <th>...</th>\n",
       "      <th>0.36</th>\n",
       "      <th>0.37</th>\n",
       "      <th>0.38</th>\n",
       "      <th>0.39</th>\n",
       "      <th>1.12</th>\n",
       "      <th>0.40</th>\n",
       "      <th>0.41</th>\n",
       "      <th>1.13</th>\n",
       "      <th>0.42</th>\n",
       "      <th>0.43</th>\n",
       "    </tr>\n",
       "  </thead>\n",
       "  <tbody>\n",
       "    <tr>\n",
       "      <th>0</th>\n",
       "      <td>0</td>\n",
       "      <td>29</td>\n",
       "      <td>1</td>\n",
       "      <td>999</td>\n",
       "      <td>0</td>\n",
       "      <td>1</td>\n",
       "      <td>0</td>\n",
       "      <td>1</td>\n",
       "      <td>0</td>\n",
       "      <td>0</td>\n",
       "      <td>...</td>\n",
       "      <td>0</td>\n",
       "      <td>0</td>\n",
       "      <td>0</td>\n",
       "      <td>0</td>\n",
       "      <td>0</td>\n",
       "      <td>1</td>\n",
       "      <td>0</td>\n",
       "      <td>0</td>\n",
       "      <td>1</td>\n",
       "      <td>0</td>\n",
       "    </tr>\n",
       "    <tr>\n",
       "      <th>1</th>\n",
       "      <td>0</td>\n",
       "      <td>53</td>\n",
       "      <td>2</td>\n",
       "      <td>999</td>\n",
       "      <td>0</td>\n",
       "      <td>1</td>\n",
       "      <td>0</td>\n",
       "      <td>0</td>\n",
       "      <td>0</td>\n",
       "      <td>1</td>\n",
       "      <td>...</td>\n",
       "      <td>0</td>\n",
       "      <td>0</td>\n",
       "      <td>0</td>\n",
       "      <td>0</td>\n",
       "      <td>0</td>\n",
       "      <td>0</td>\n",
       "      <td>1</td>\n",
       "      <td>0</td>\n",
       "      <td>1</td>\n",
       "      <td>0</td>\n",
       "    </tr>\n",
       "    <tr>\n",
       "      <th>2</th>\n",
       "      <td>0</td>\n",
       "      <td>60</td>\n",
       "      <td>1</td>\n",
       "      <td>999</td>\n",
       "      <td>0</td>\n",
       "      <td>1</td>\n",
       "      <td>0</td>\n",
       "      <td>0</td>\n",
       "      <td>0</td>\n",
       "      <td>1</td>\n",
       "      <td>...</td>\n",
       "      <td>0</td>\n",
       "      <td>0</td>\n",
       "      <td>0</td>\n",
       "      <td>0</td>\n",
       "      <td>1</td>\n",
       "      <td>0</td>\n",
       "      <td>0</td>\n",
       "      <td>0</td>\n",
       "      <td>1</td>\n",
       "      <td>0</td>\n",
       "    </tr>\n",
       "    <tr>\n",
       "      <th>3</th>\n",
       "      <td>0</td>\n",
       "      <td>55</td>\n",
       "      <td>1</td>\n",
       "      <td>999</td>\n",
       "      <td>0</td>\n",
       "      <td>1</td>\n",
       "      <td>0</td>\n",
       "      <td>0</td>\n",
       "      <td>0</td>\n",
       "      <td>0</td>\n",
       "      <td>...</td>\n",
       "      <td>0</td>\n",
       "      <td>0</td>\n",
       "      <td>0</td>\n",
       "      <td>0</td>\n",
       "      <td>0</td>\n",
       "      <td>1</td>\n",
       "      <td>0</td>\n",
       "      <td>0</td>\n",
       "      <td>1</td>\n",
       "      <td>0</td>\n",
       "    </tr>\n",
       "    <tr>\n",
       "      <th>4</th>\n",
       "      <td>0</td>\n",
       "      <td>53</td>\n",
       "      <td>11</td>\n",
       "      <td>999</td>\n",
       "      <td>0</td>\n",
       "      <td>1</td>\n",
       "      <td>0</td>\n",
       "      <td>0</td>\n",
       "      <td>0</td>\n",
       "      <td>0</td>\n",
       "      <td>...</td>\n",
       "      <td>0</td>\n",
       "      <td>0</td>\n",
       "      <td>0</td>\n",
       "      <td>1</td>\n",
       "      <td>0</td>\n",
       "      <td>0</td>\n",
       "      <td>0</td>\n",
       "      <td>0</td>\n",
       "      <td>1</td>\n",
       "      <td>0</td>\n",
       "    </tr>\n",
       "  </tbody>\n",
       "</table>\n",
       "<p>5 rows × 60 columns</p>\n",
       "</div>"
      ],
      "text/plain": [
       "   0  31   1  999  1.1  1.2  1.3  0.1  0.2  0.3  ...  0.36  0.37  0.38  0.39   \n",
       "0  0  29   1  999    0    1    0    1    0    0  ...     0     0     0     0  \\\n",
       "1  0  53   2  999    0    1    0    0    0    1  ...     0     0     0     0   \n",
       "2  0  60   1  999    0    1    0    0    0    1  ...     0     0     0     0   \n",
       "3  0  55   1  999    0    1    0    0    0    0  ...     0     0     0     0   \n",
       "4  0  53  11  999    0    1    0    0    0    0  ...     0     0     0     1   \n",
       "\n",
       "   1.12  0.40  0.41  1.13  0.42  0.43  \n",
       "0     0     1     0     0     1     0  \n",
       "1     0     0     1     0     1     0  \n",
       "2     1     0     0     0     1     0  \n",
       "3     0     1     0     0     1     0  \n",
       "4     0     0     0     0     1     0  \n",
       "\n",
       "[5 rows x 60 columns]"
      ]
     },
     "execution_count": 10,
     "metadata": {},
     "output_type": "execute_result"
    }
   ],
   "source": [
    "x = pd.read_csv('train.csv')\n",
    "x.head()"
   ]
  },
  {
   "cell_type": "code",
   "execution_count": 11,
   "id": "8528d3d4",
   "metadata": {
    "scrolled": true
   },
   "outputs": [],
   "source": [
    "# Test Data Into Buckets\n",
    "pd.concat([test_data['y_yes'], test_data.drop(['y_no', 'y_yes'], axis=1)], axis=1).to_csv('test.csv', index=False, header=False)\n",
    "boto3.Session().resource('s3').Bucket(bucket_name).Object(os.path.join(prefix, 'test/test.csv')).upload_file('test.csv')\n",
    "s3_input_test = sagemaker.TrainingInput(s3_data='s3://{}/{}/test'.format(bucket_name, prefix), content_type='csv')"
   ]
  },
  {
   "cell_type": "markdown",
   "id": "0d4bd359",
   "metadata": {},
   "source": [
    "### Building Models Xgboot- Inbuilt Algorithm"
   ]
  },
  {
   "cell_type": "code",
   "execution_count": 12,
   "id": "33324006",
   "metadata": {},
   "outputs": [
    {
     "name": "stderr",
     "output_type": "stream",
     "text": [
      "The method get_image_uri has been renamed in sagemaker>=2.\n",
      "See: https://sagemaker.readthedocs.io/en/stable/v2.html for details.\n"
     ]
    }
   ],
   "source": [
    "# this line automatically looks for the XGBoost image URI and builds an XGBoost container.\n",
    "# specify the repo_version depending on your preference.\n",
    "container = get_image_uri(boto3.Session().region_name,\n",
    "                          'xgboost', \n",
    "                          repo_version='1.0-1')"
   ]
  },
  {
   "cell_type": "code",
   "execution_count": 13,
   "id": "62a62d82",
   "metadata": {},
   "outputs": [],
   "source": [
    "# initialize hyperparameters \n",
    "# Has used local machine to get these hyper parameters since it costs a lot to train on AWS\n",
    "hyperparameters = {\n",
    "        \"max_depth\":\"5\",\n",
    "        \"eta\":\"0.2\",\n",
    "        \"gamma\":\"4\",\n",
    "        \"min_child_weight\":\"6\",\n",
    "        \"subsample\":\"0.7\",\n",
    "        \"objective\":\"binary:logistic\",\n",
    "        \"num_round\":50\n",
    "        }"
   ]
  },
  {
   "cell_type": "code",
   "execution_count": 14,
   "id": "b2ce382e",
   "metadata": {},
   "outputs": [],
   "source": [
    "# Construct a SageMaker estimator that calls the xgboost-container\n",
    "estimator = sagemaker.estimator.Estimator(image_uri=container, \n",
    "                      hyperparameters=hyperparameters,\n",
    "                      role=sagemaker.get_execution_role(),\n",
    "                      instance_count=1,  # Updated parameter name\n",
    "                      instance_type='ml.m5.2xlarge',  # Updated parameter name\n",
    "                      volume_size=5,  # Updated parameter name\n",
    "                      output_path=output_path,\n",
    "                      use_spot_instances=True,  # Updated parameter name\n",
    "                      max_run=300,  # Updated parameter name\n",
    "                      max_wait=600)  # Updated parameter name"
   ]
  },
  {
   "cell_type": "code",
   "execution_count": 15,
   "id": "0596b313",
   "metadata": {},
   "outputs": [
    {
     "name": "stderr",
     "output_type": "stream",
     "text": [
      "INFO:sagemaker:Creating training-job with name: sagemaker-xgboost-2023-08-21-15-26-30-536\n"
     ]
    },
    {
     "name": "stdout",
     "output_type": "stream",
     "text": [
      "2023-08-21 15:26:30 Starting - Starting the training job...\n",
      "2023-08-21 15:26:46 Starting - Preparing the instances for training......\n",
      "2023-08-21 15:27:57 Downloading - Downloading input data......\n",
      "2023-08-21 15:28:48 Training - Training image download completed. Training in progress..\u001b[34m[2023-08-21 15:28:59.029 ip-10-0-184-228.ec2.internal:7 INFO utils.py:27] RULE_JOB_STOP_SIGNAL_FILENAME: None\u001b[0m\n",
      "\u001b[34mINFO:sagemaker-containers:Imported framework sagemaker_xgboost_container.training\u001b[0m\n",
      "\u001b[34mINFO:sagemaker-containers:Failed to parse hyperparameter objective value binary:logistic to Json.\u001b[0m\n",
      "\u001b[34mReturning the value itself\u001b[0m\n",
      "\u001b[34mINFO:sagemaker-containers:No GPUs detected (normal if no gpus installed)\u001b[0m\n",
      "\u001b[34mINFO:sagemaker_xgboost_container.training:Running XGBoost Sagemaker in algorithm mode\u001b[0m\n",
      "\u001b[34mINFO:root:Determined delimiter of CSV input is ','\u001b[0m\n",
      "\u001b[34mINFO:root:Determined delimiter of CSV input is ','\u001b[0m\n",
      "\u001b[34mINFO:root:Determined delimiter of CSV input is ','\u001b[0m\n",
      "\u001b[34mINFO:root:Determined delimiter of CSV input is ','\u001b[0m\n",
      "\u001b[34mINFO:root:Single node training.\u001b[0m\n",
      "\u001b[34m[15:28:59] 28831x59 matrix with 1701029 entries loaded from /opt/ml/input/data/train?format=csv&label_column=0&delimiter=,\u001b[0m\n",
      "\u001b[34m[15:28:59] 12357x59 matrix with 729063 entries loaded from /opt/ml/input/data/validation?format=csv&label_column=0&delimiter=,\u001b[0m\n",
      "\u001b[34m[2023-08-21 15:28:59.198 ip-10-0-184-228.ec2.internal:7 INFO json_config.py:91] Creating hook from json_config at /opt/ml/input/config/debughookconfig.json.\u001b[0m\n",
      "\u001b[34m[2023-08-21 15:28:59.198 ip-10-0-184-228.ec2.internal:7 INFO hook.py:201] tensorboard_dir has not been set for the hook. SMDebug will not be exporting tensorboard summaries.\u001b[0m\n",
      "\u001b[34m[2023-08-21 15:28:59.199 ip-10-0-184-228.ec2.internal:7 INFO profiler_config_parser.py:102] User has disabled profiler.\u001b[0m\n",
      "\u001b[34m[2023-08-21 15:28:59.199 ip-10-0-184-228.ec2.internal:7 INFO hook.py:255] Saving to /opt/ml/output/tensors\u001b[0m\n",
      "\u001b[34m[2023-08-21 15:28:59.199 ip-10-0-184-228.ec2.internal:7 INFO state_store.py:77] The checkpoint config file /opt/ml/input/config/checkpointconfig.json does not exist.\u001b[0m\n",
      "\u001b[34mINFO:root:Debug hook created from config\u001b[0m\n",
      "\u001b[34mINFO:root:Train matrix has 28831 rows\u001b[0m\n",
      "\u001b[34mINFO:root:Validation matrix has 12357 rows\u001b[0m\n",
      "\u001b[34m[15:28:59] WARNING: /workspace/src/learner.cc:328: \u001b[0m\n",
      "\u001b[34mParameters: { num_round } might not be used.\n",
      "  This may not be accurate due to some parameters are only used in language bindings but\n",
      "  passed down to XGBoost core.  Or some parameters are not used but slip through this\n",
      "  verification. Please open an issue if you find above cases.\u001b[0m\n",
      "\u001b[34m[0]#011train-error:0.10350#011validation-error:0.10496\u001b[0m\n",
      "\u001b[34m[2023-08-21 15:28:59.244 ip-10-0-184-228.ec2.internal:7 INFO hook.py:423] Monitoring the collections: metrics\u001b[0m\n",
      "\u001b[34m[2023-08-21 15:28:59.247 ip-10-0-184-228.ec2.internal:7 INFO hook.py:486] Hook is writing from the hook with pid: 7\u001b[0m\n",
      "\u001b[34m[1]#011train-error:0.10277#011validation-error:0.09768\u001b[0m\n",
      "\u001b[34m[2]#011train-error:0.10291#011validation-error:0.09962\u001b[0m\n",
      "\u001b[34m[3]#011train-error:0.10246#011validation-error:0.09946\u001b[0m\n",
      "\u001b[34m[4]#011train-error:0.10267#011validation-error:0.09808\u001b[0m\n",
      "\u001b[34m[5]#011train-error:0.10284#011validation-error:0.09824\u001b[0m\n",
      "\u001b[34m[6]#011train-error:0.10242#011validation-error:0.09841\u001b[0m\n",
      "\u001b[34m[7]#011train-error:0.10270#011validation-error:0.09816\u001b[0m\n",
      "\u001b[34m[8]#011train-error:0.10225#011validation-error:0.09816\u001b[0m\n",
      "\u001b[34m[9]#011train-error:0.10197#011validation-error:0.09865\u001b[0m\n",
      "\u001b[34m[10]#011train-error:0.10170#011validation-error:0.09865\u001b[0m\n",
      "\u001b[34m[11]#011train-error:0.10149#011validation-error:0.09889\u001b[0m\n",
      "\u001b[34m[12]#011train-error:0.10128#011validation-error:0.09849\u001b[0m\n",
      "\u001b[34m[13]#011train-error:0.10159#011validation-error:0.09857\u001b[0m\n",
      "\u001b[34m[14]#011train-error:0.10152#011validation-error:0.09873\u001b[0m\n",
      "\u001b[34m[15]#011train-error:0.10156#011validation-error:0.09881\u001b[0m\n",
      "\u001b[34m[16]#011train-error:0.10132#011validation-error:0.09881\u001b[0m\n",
      "\u001b[34m[17]#011train-error:0.10114#011validation-error:0.09873\u001b[0m\n",
      "\u001b[34m[18]#011train-error:0.10118#011validation-error:0.09841\u001b[0m\n",
      "\u001b[34m[19]#011train-error:0.10072#011validation-error:0.09824\u001b[0m\n",
      "\u001b[34m[20]#011train-error:0.10076#011validation-error:0.09832\u001b[0m\n",
      "\u001b[34m[21]#011train-error:0.10059#011validation-error:0.09832\u001b[0m\n",
      "\u001b[34m[22]#011train-error:0.10055#011validation-error:0.09824\u001b[0m\n",
      "\u001b[34m[23]#011train-error:0.10048#011validation-error:0.09881\u001b[0m\n",
      "\u001b[34m[24]#011train-error:0.10017#011validation-error:0.09824\u001b[0m\n",
      "\u001b[34m[25]#011train-error:0.10014#011validation-error:0.09857\u001b[0m\n",
      "\u001b[34m[26]#011train-error:0.10010#011validation-error:0.09954\u001b[0m\n",
      "\u001b[34m[27]#011train-error:0.10017#011validation-error:0.10002\u001b[0m\n",
      "\u001b[34m[28]#011train-error:0.09996#011validation-error:0.09930\u001b[0m\n",
      "\u001b[34m[29]#011train-error:0.09986#011validation-error:0.09921\u001b[0m\n",
      "\u001b[34m[30]#011train-error:0.09989#011validation-error:0.09946\u001b[0m\n",
      "\u001b[34m[31]#011train-error:0.10000#011validation-error:0.09930\u001b[0m\n",
      "\u001b[34m[32]#011train-error:0.09972#011validation-error:0.09921\u001b[0m\n",
      "\u001b[34m[33]#011train-error:0.09961#011validation-error:0.09962\u001b[0m\n",
      "\u001b[34m[34]#011train-error:0.09934#011validation-error:0.09978\u001b[0m\n",
      "\u001b[34m[35]#011train-error:0.09941#011validation-error:0.10010\u001b[0m\n",
      "\u001b[34m[36]#011train-error:0.09923#011validation-error:0.09978\u001b[0m\n",
      "\u001b[34m[37]#011train-error:0.09923#011validation-error:0.09865\u001b[0m\n",
      "\u001b[34m[38]#011train-error:0.09951#011validation-error:0.09921\u001b[0m\n",
      "\u001b[34m[39]#011train-error:0.09927#011validation-error:0.09921\u001b[0m\n",
      "\u001b[34m[40]#011train-error:0.09920#011validation-error:0.09913\u001b[0m\n",
      "\u001b[34m[41]#011train-error:0.09916#011validation-error:0.09889\u001b[0m\n",
      "\u001b[34m[42]#011train-error:0.09910#011validation-error:0.09905\u001b[0m\n",
      "\u001b[34m[43]#011train-error:0.09903#011validation-error:0.09905\u001b[0m\n",
      "\u001b[34m[44]#011train-error:0.09903#011validation-error:0.09921\u001b[0m\n",
      "\u001b[34m[45]#011train-error:0.09889#011validation-error:0.09905\u001b[0m\n",
      "\u001b[34m[46]#011train-error:0.09889#011validation-error:0.09873\u001b[0m\n",
      "\u001b[34m[47]#011train-error:0.09892#011validation-error:0.09881\u001b[0m\n",
      "\u001b[34m[48]#011train-error:0.09896#011validation-error:0.09889\u001b[0m\n",
      "\u001b[34m[49]#011train-error:0.09899#011validation-error:0.09889\u001b[0m\n",
      "\n",
      "2023-08-21 15:29:15 Uploading - Uploading generated training model\n",
      "2023-08-21 15:29:15 Completed - Training job completed\n",
      "Training seconds: 78\n",
      "Billable seconds: 31\n",
      "Managed Spot Training savings: 60.3%\n"
     ]
    }
   ],
   "source": [
    "estimator.fit({'train': s3_input_train,'validation': s3_input_test})"
   ]
  },
  {
   "cell_type": "markdown",
   "id": "1c8f7466",
   "metadata": {},
   "source": [
    "### Deploy Machine Learning Model As Endpoints"
   ]
  },
  {
   "cell_type": "code",
   "execution_count": 16,
   "id": "7d79bcb6",
   "metadata": {},
   "outputs": [
    {
     "name": "stderr",
     "output_type": "stream",
     "text": [
      "INFO:sagemaker:Creating model with name: sagemaker-xgboost-2023-08-21-15-30-04-756\n",
      "INFO:sagemaker:Creating endpoint-config with name sagemaker-xgboost-2023-08-21-15-30-04-756\n",
      "INFO:sagemaker:Creating endpoint with name sagemaker-xgboost-2023-08-21-15-30-04-756\n"
     ]
    },
    {
     "name": "stdout",
     "output_type": "stream",
     "text": [
      "-------!"
     ]
    }
   ],
   "source": [
    "xgb_predictor = estimator.deploy(initial_instance_count=1,instance_type='ml.m4.xlarge')"
   ]
  },
  {
   "cell_type": "markdown",
   "id": "fa588d12",
   "metadata": {},
   "source": [
    "#### Prediction of the Test Data"
   ]
  },
  {
   "cell_type": "code",
   "execution_count": 17,
   "id": "3935bbce",
   "metadata": {},
   "outputs": [
    {
     "name": "stdout",
     "output_type": "stream",
     "text": [
      "(12357,)\n"
     ]
    }
   ],
   "source": [
    "from sagemaker.serializers import CSVSerializer\n",
    "import numpy as np\n",
    "\n",
    "xgb_predictor.serializer = CSVSerializer() # set the serializer type\n",
    "\n",
    "test_data_array = test_data.drop(['y_no', 'y_yes'], axis=1).values #load the data into an array\n",
    "xgb_predictor.content_type = 'text/csv' # set the data type for an inference\n",
    "\n",
    "predictions = xgb_predictor.predict(test_data_array).decode('utf-8') # predict!\n",
    "predictions_array = np.fromstring(predictions[1:], sep=',') # and turn the prediction into an array\n",
    "print(predictions_array.shape)"
   ]
  },
  {
   "cell_type": "code",
   "execution_count": 18,
   "id": "8f8a2d1b",
   "metadata": {},
   "outputs": [
    {
     "data": {
      "text/plain": [
       "array([0.24062315, 0.04597575, 0.1072567 , ..., 0.04612841, 0.02184176,\n",
       "       0.20093924])"
      ]
     },
     "execution_count": 18,
     "metadata": {},
     "output_type": "execute_result"
    }
   ],
   "source": [
    "predictions_array"
   ]
  },
  {
   "cell_type": "code",
   "execution_count": 19,
   "id": "45abe0d9",
   "metadata": {},
   "outputs": [],
   "source": [
    "##### Used the code given by AWS Documentation to create Confusion Matrix"
   ]
  },
  {
   "cell_type": "code",
   "execution_count": 20,
   "id": "05ae35a2",
   "metadata": {},
   "outputs": [
    {
     "name": "stdout",
     "output_type": "stream",
     "text": [
      "\n",
      "Overall Classification Rate: 90.1%\n",
      "\n",
      "Predicted      No Purchase    Purchase\n",
      "Observed\n",
      "No Purchase    91% (10834)    40% (198)\n",
      "Purchase        9% (1024)     60% (301) \n",
      "\n"
     ]
    }
   ],
   "source": [
    "cm = pd.crosstab(index=test_data['y_yes'], columns=np.round(predictions_array), rownames=['Observed'], colnames=['Predicted'])\n",
    "tn = cm.iloc[0,0]; fn = cm.iloc[1,0]; tp = cm.iloc[1,1]; fp = cm.iloc[0,1]; p = (tp+tn)/(tp+tn+fp+fn)*100\n",
    "print(\"\\n{0:<20}{1:<4.1f}%\\n\".format(\"Overall Classification Rate: \", p))\n",
    "print(\"{0:<15}{1:<15}{2:>8}\".format(\"Predicted\", \"No Purchase\", \"Purchase\"))\n",
    "print(\"Observed\")\n",
    "print(\"{0:<15}{1:<2.0f}% ({2:<}){3:>6.0f}% ({4:<})\".format(\"No Purchase\", tn/(tn+fn)*100,tn, fp/(tp+fp)*100, fp))\n",
    "print(\"{0:<16}{1:<1.0f}% ({2:<}){3:>7.0f}% ({4:<}) \\n\".format(\"Purchase\", fn/(tn+fn)*100,fn, tp/(tp+fp)*100, tp))"
   ]
  },
  {
   "cell_type": "markdown",
   "id": "d26e4603",
   "metadata": {},
   "source": [
    "#### Deleting The Endpoints"
   ]
  },
  {
   "cell_type": "code",
   "execution_count": 22,
   "id": "dd4dfc3b",
   "metadata": {},
   "outputs": [
    {
     "name": "stderr",
     "output_type": "stream",
     "text": [
      "WARNING:sagemaker.deprecations:The endpoint attribute has been renamed in sagemaker>=2.\n",
      "See: https://sagemaker.readthedocs.io/en/stable/v2.html for details.\n",
      "INFO:sagemaker:Deleting endpoint with name: sagemaker-xgboost-2023-08-21-15-30-04-756\n"
     ]
    },
    {
     "data": {
      "text/plain": [
       "[{'ResponseMetadata': {'RequestId': '888N1CWC2EQJMFV5',\n",
       "   'HostId': 'Lvxfg9DcPb++yt2c/6bR+2GpNsn2xtWOuJ7t4+homJqve74DyQmIAKOSj3dXP/AjEWJ3hlpN2R/By68siWcPe32bxuh9OR6T',\n",
       "   'HTTPStatusCode': 200,\n",
       "   'HTTPHeaders': {'x-amz-id-2': 'Lvxfg9DcPb++yt2c/6bR+2GpNsn2xtWOuJ7t4+homJqve74DyQmIAKOSj3dXP/AjEWJ3hlpN2R/By68siWcPe32bxuh9OR6T',\n",
       "    'x-amz-request-id': '888N1CWC2EQJMFV5',\n",
       "    'date': 'Mon, 21 Aug 2023 15:36:01 GMT',\n",
       "    'content-type': 'application/xml',\n",
       "    'transfer-encoding': 'chunked',\n",
       "    'server': 'AmazonS3',\n",
       "    'connection': 'close'},\n",
       "   'RetryAttempts': 0},\n",
       "  'Deleted': [{'Key': 'built-in-xgboost/output/sagemaker-xgboost-2023-08-21-15-26-30-536/profiler-output/system/incremental/2023082115/1692631680.algo-1.json'},\n",
       "   {'Key': 'built-in-xgboost/output/sagemaker-xgboost-2023-08-21-15-26-30-536/debug-output/index/000000000/000000000030_worker_0.json'},\n",
       "   {'Key': 'built-in-xgboost/output/sagemaker-xgboost-2023-08-21-15-26-30-536/debug-output/events/000000000040/000000000040_worker_0.tfevents'},\n",
       "   {'Key': 'built-in-xgboost/output/sagemaker-xgboost-2023-08-21-15-26-30-536/debug-output/training_job_end.ts'},\n",
       "   {'Key': 'built-in-xgboost/output/sagemaker-xgboost-2023-08-21-15-26-30-536/debug-output/index/000000000/000000000000_worker_0.json'},\n",
       "   {'Key': 'built-in-xgboost/output/sagemaker-xgboost-2023-08-21-15-26-30-536/debug-output/events/000000000010/000000000010_worker_0.tfevents'},\n",
       "   {'Key': 'built-in-xgboost/output/sagemaker-xgboost-2023-08-21-15-26-30-536/profiler-output/framework/training_job_end.ts'},\n",
       "   {'Key': 'built-in-xgboost/output/sagemaker-xgboost-2023-08-21-15-26-30-536/profiler-output/system/incremental/2023082115/1692631740.algo-1.json'},\n",
       "   {'Key': 'built-in-xgboost/output/sagemaker-xgboost-2023-08-21-15-26-30-536/debug-output/events/000000000000/000000000000_worker_0.tfevents'},\n",
       "   {'Key': 'built-in-xgboost/output/sagemaker-xgboost-2023-08-21-15-26-30-536/debug-output/index/000000000/000000000040_worker_0.json'},\n",
       "   {'Key': 'built-in-xgboost/output/sagemaker-xgboost-2023-08-21-15-26-30-536/debug-output/index/000000000/000000000010_worker_0.json'},\n",
       "   {'Key': 'built-in-xgboost/output/sagemaker-xgboost-2023-08-21-15-26-30-536/debug-output/events/000000000020/000000000020_worker_0.tfevents'},\n",
       "   {'Key': 'built-in-xgboost/output/sagemaker-xgboost-2023-08-21-15-26-30-536/debug-output/events/000000000030/000000000030_worker_0.tfevents'},\n",
       "   {'Key': 'built-in-xgboost/output/sagemaker-xgboost-2023-08-21-15-26-30-536/output/model.tar.gz'},\n",
       "   {'Key': 'built-in-xgboost/output/sagemaker-xgboost-2023-08-21-15-26-30-536/profiler-output/system/training_job_end.ts'},\n",
       "   {'Key': 'built-in-xgboost/output/sagemaker-xgboost-2023-08-21-15-26-30-536/debug-output/claim.smd'},\n",
       "   {'Key': 'built-in-xgboost/output/sagemaker-xgboost-2023-08-21-15-26-30-536/debug-output/index/000000000/000000000020_worker_0.json'},\n",
       "   {'Key': 'built-in-xgboost/test/test.csv'},\n",
       "   {'Key': 'built-in-xgboost/output/sagemaker-xgboost-2023-08-21-15-26-30-536/debug-output/collections/000000000/worker_0_collections.json'},\n",
       "   {'Key': 'built-in-xgboost/train/train.csv'}]}]"
      ]
     },
     "execution_count": 22,
     "metadata": {},
     "output_type": "execute_result"
    }
   ],
   "source": [
    "sagemaker.Session().delete_endpoint(xgb_predictor.endpoint)\n",
    "bucket_to_delete = boto3.resource('s3').Bucket(bucket_name)\n",
    "bucket_to_delete.objects.all().delete()"
   ]
  },
  {
   "cell_type": "code",
   "execution_count": null,
   "id": "c034ed59",
   "metadata": {},
   "outputs": [],
   "source": []
  }
 ],
 "metadata": {
  "kernelspec": {
   "display_name": "conda_python3",
   "language": "python",
   "name": "conda_python3"
  },
  "language_info": {
   "codemirror_mode": {
    "name": "ipython",
    "version": 3
   },
   "file_extension": ".py",
   "mimetype": "text/x-python",
   "name": "python",
   "nbconvert_exporter": "python",
   "pygments_lexer": "ipython3",
   "version": "3.10.10"
  }
 },
 "nbformat": 4,
 "nbformat_minor": 5
}
